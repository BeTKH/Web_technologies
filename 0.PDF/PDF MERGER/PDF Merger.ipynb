{
 "cells": [
  {
   "cell_type": "markdown",
   "id": "ea0f1f16",
   "metadata": {},
   "source": [
    "## WORKING PDF MERGER"
   ]
  },
  {
   "cell_type": "code",
   "execution_count": 1,
   "id": "cc43ddff",
   "metadata": {},
   "outputs": [],
   "source": [
    "import os\n",
    "from PyPDF2 import PdfFileMerger\n",
    "\n",
    "x = [a for a in os.listdir() if a.endswith(\".pdf\")]"
   ]
  },
  {
   "cell_type": "code",
   "execution_count": 3,
   "id": "a7b46bdd",
   "metadata": {},
   "outputs": [],
   "source": [
    "merger = PdfFileMerger()\n",
    "\n",
    "for pdf in x:\n",
    "    merger.append(open(pdf, 'rb'))\n",
    "\n",
    "with open(\"result.pdf\", \"wb\") as fout:\n",
    "    merger.write(fout)"
   ]
  }
 ],
 "metadata": {
  "kernelspec": {
   "display_name": "Python 3 (ipykernel)",
   "language": "python",
   "name": "python3"
  },
  "language_info": {
   "codemirror_mode": {
    "name": "ipython",
    "version": 3
   },
   "file_extension": ".py",
   "mimetype": "text/x-python",
   "name": "python",
   "nbconvert_exporter": "python",
   "pygments_lexer": "ipython3",
   "version": "3.9.5"
  }
 },
 "nbformat": 4,
 "nbformat_minor": 5
}
